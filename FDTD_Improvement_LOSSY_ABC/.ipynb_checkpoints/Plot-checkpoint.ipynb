{
 "cells": [
  {
   "cell_type": "code",
   "execution_count": 1,
   "id": "b3890d5b",
   "metadata": {},
   "outputs": [],
   "source": [
    "import numpy as np\n",
    "import matplotlib.pyplot as plt\n",
    "from matplotlib.animation import FuncAnimation\n",
    "import pandas as pd\n",
    "import imageio.v2 as imageio\n",
    "import os\n",
    "from os.path import exists"
   ]
  },
  {
   "cell_type": "code",
   "execution_count": 2,
   "id": "18c1d03c",
   "metadata": {},
   "outputs": [],
   "source": [
    "folder_name = \"Reproduce_TFSF_plots\"\n",
    "folder_data = \"data\"\n",
    "# Create a directory to save images\n",
    "if not os.path.exists(folder_name):\n",
    "    os.makedirs(folder_name)"
   ]
  },
  {
   "cell_type": "code",
   "execution_count": 3,
   "id": "f7265403",
   "metadata": {},
   "outputs": [],
   "source": [
    "for i in range(0,449):\n",
    "    data = pd.read_csv(f\"{folder_data}/time={i}.csv\")\n",
    "    plt.plot(data[\"pos\"],data[\"Magnetic_Field\"],label=r\"$\\vec{B}(x)$\",color=\"darkviolet\")\n",
    "    plt.plot(data[\"pos\"],data[\"Electric_Field\"],label=r\"$\\vec{E}(x)$\",color=\"deepskyblue\")\n",
    "    plt.title(\"FDTD-1D Method\")\n",
    "    plt.xlabel(\"x\")\n",
    "    plt.ylabel(\"Wave Amplitud\")\n",
    "    #plt.axvline(x = 100, color = 'black', label = 'New material')\n",
    "    #plt.axvspan(100, 200, color='yellow', alpha=0.25)\n",
    "    plt.xlim([0,199])\n",
    "    plt.ylim([-0.6,1.1])\n",
    "    plt.legend(loc=\"upper left\",fontsize=5)\n",
    "    plt.grid(True)\n",
    "    \n",
    "    if(exists(f\"{folder_name}/time={i}.png\") == False):\n",
    "        plt.savefig(f\"{folder_name}/time={i}.png\", dpi=300)\n",
    "        \n",
    "    plt.close()"
   ]
  },
  {
   "cell_type": "code",
   "execution_count": 3,
   "id": "f87e03f3",
   "metadata": {},
   "outputs": [],
   "source": [
    "images = []\n",
    "\n",
    "for i in range(0,449):\n",
    "    filename = f\"{folder_name}/time={i}.png\"\n",
    "    images.append(imageio.imread(filename))\n",
    "    \n",
    "imageio.mimsave('animated_plot.gif', images)"
   ]
  },
  {
   "cell_type": "code",
   "execution_count": null,
   "id": "4ac7d670",
   "metadata": {},
   "outputs": [],
   "source": []
  }
 ],
 "metadata": {
  "kernelspec": {
   "display_name": "Python 3 (ipykernel)",
   "language": "python",
   "name": "python3"
  },
  "language_info": {
   "codemirror_mode": {
    "name": "ipython",
    "version": 3
   },
   "file_extension": ".py",
   "mimetype": "text/x-python",
   "name": "python",
   "nbconvert_exporter": "python",
   "pygments_lexer": "ipython3",
   "version": "3.8.18"
  }
 },
 "nbformat": 4,
 "nbformat_minor": 5
}
