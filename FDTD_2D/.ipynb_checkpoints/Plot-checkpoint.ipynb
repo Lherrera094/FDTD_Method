{
 "cells": [
  {
   "cell_type": "code",
   "execution_count": 4,
   "id": "b3890d5b",
   "metadata": {},
   "outputs": [],
   "source": [
    "import numpy as np\n",
    "import matplotlib.pyplot as plt\n",
    "from matplotlib.animation import FuncAnimation\n",
    "import pandas as pd\n",
    "import imageio.v2 as imageio\n",
    "import os\n",
    "from os.path import exists"
   ]
  },
  {
   "cell_type": "code",
   "execution_count": 5,
   "id": "18c1d03c",
   "metadata": {},
   "outputs": [],
   "source": [
    "folder_name = \"Plots\"\n",
    "folder_data = \"data\"\n",
    "# Create a directory to save images\n",
    "if not os.path.exists(folder_name):\n",
    "    os.makedirs(folder_name)"
   ]
  },
  {
   "cell_type": "code",
   "execution_count": 8,
   "id": "50b7c254-bda3-4580-9b7d-9d7539c8be50",
   "metadata": {},
   "outputs": [
    {
     "data": {
      "text/plain": [
       "[0,\n",
       " 1,\n",
       " 2,\n",
       " 3,\n",
       " 4,\n",
       " 5,\n",
       " 6,\n",
       " 7,\n",
       " 8,\n",
       " 9,\n",
       " 10,\n",
       " 11,\n",
       " 12,\n",
       " 13,\n",
       " 14,\n",
       " 15,\n",
       " 16,\n",
       " 17,\n",
       " 18,\n",
       " 19,\n",
       " 20,\n",
       " 21,\n",
       " 22,\n",
       " 23,\n",
       " 24,\n",
       " 25,\n",
       " 26,\n",
       " 27,\n",
       " 28,\n",
       " 29,\n",
       " 30,\n",
       " 31,\n",
       " 32,\n",
       " 33,\n",
       " 34,\n",
       " 35,\n",
       " 36,\n",
       " 37,\n",
       " 38,\n",
       " 39,\n",
       " 40,\n",
       " 41,\n",
       " 42,\n",
       " 43,\n",
       " 44,\n",
       " 45,\n",
       " 46,\n",
       " 47,\n",
       " 48,\n",
       " 49,\n",
       " 50,\n",
       " 51,\n",
       " 52,\n",
       " 53,\n",
       " 54,\n",
       " 55,\n",
       " 56,\n",
       " 57,\n",
       " 58,\n",
       " 59,\n",
       " 60,\n",
       " 61,\n",
       " 62,\n",
       " 63,\n",
       " 64,\n",
       " 65,\n",
       " 66,\n",
       " 67,\n",
       " 68,\n",
       " 69,\n",
       " 70,\n",
       " 71,\n",
       " 72,\n",
       " 73,\n",
       " 74,\n",
       " 75,\n",
       " 76,\n",
       " 77,\n",
       " 78,\n",
       " 79,\n",
       " 80,\n",
       " 81]"
      ]
     },
     "execution_count": 8,
     "metadata": {},
     "output_type": "execute_result"
    }
   ],
   "source": [
    "data = pd.read_csv(f\"{folder_data}/time={1}.csv\")\n",
    "new_col = [i for i in range(82)]\n",
    "data.columns = new_column_names\n",
    "new_df = pd.DataFrame(columns=new_column_names)\n",
    "new_df.loc[0] = data.columns"
   ]
  },
  {
   "cell_type": "code",
   "execution_count": 3,
   "id": "f7265403",
   "metadata": {},
   "outputs": [],
   "source": [
    "for i in range(0,449):\n",
    "    data = pd.read_csv(f\"{folder_data}/time={i}.csv\")\n",
    "    plt.plot(data[\"pos\"],data[\"Magnetic_Field\"],label=r\"$\\vec{B}(x)$\",color=\"darkviolet\")\n",
    "    plt.plot(data[\"pos\"],data[\"Electric_Field\"],label=r\"$\\vec{E}(x)$\",color=\"deepskyblue\")\n",
    "    plt.title(\"FDTD-1D Method\")\n",
    "    plt.xlabel(\"x\")\n",
    "    plt.ylabel(\"Wave Amplitud\")\n",
    "    #plt.axvline(x = 100, color = 'black', label = 'New material')\n",
    "    #plt.axvspan(100, 200, color='yellow', alpha=0.25)\n",
    "    plt.xlim([0,199])\n",
    "    plt.ylim([-2,2])\n",
    "    plt.legend(loc=\"upper left\",fontsize=9)\n",
    "    plt.grid(True)\n",
    "    \n",
    "    if(exists(f\"{folder_name}/time={i}.png\") == False):\n",
    "        plt.savefig(f\"{folder_name}/time={i}.png\", dpi=300)\n",
    "        \n",
    "    plt.close()"
   ]
  },
  {
   "cell_type": "code",
   "execution_count": 3,
   "id": "f87e03f3",
   "metadata": {},
   "outputs": [],
   "source": [
    "images = []\n",
    "\n",
    "for i in range(0,449):\n",
    "    filename = f\"{folder_name}/time={i}.png\"\n",
    "    images.append(imageio.imread(filename))\n",
    "    \n",
    "imageio.mimsave('animated_plot.gif', images)"
   ]
  },
  {
   "cell_type": "code",
   "execution_count": null,
   "id": "4ac7d670",
   "metadata": {},
   "outputs": [],
   "source": []
  }
 ],
 "metadata": {
  "kernelspec": {
   "display_name": "Python 3 (ipykernel)",
   "language": "python",
   "name": "python3"
  },
  "language_info": {
   "codemirror_mode": {
    "name": "ipython",
    "version": 3
   },
   "file_extension": ".py",
   "mimetype": "text/x-python",
   "name": "python",
   "nbconvert_exporter": "python",
   "pygments_lexer": "ipython3",
   "version": "3.8.18"
  }
 },
 "nbformat": 4,
 "nbformat_minor": 5
}
