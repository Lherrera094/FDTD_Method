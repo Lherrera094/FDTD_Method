{
 "cells": [
  {
   "cell_type": "code",
   "execution_count": 1,
   "id": "b3890d5b",
   "metadata": {},
   "outputs": [],
   "source": [
    "import numpy as np\n",
    "import matplotlib.pyplot as plt\n",
    "from matplotlib.animation import FuncAnimation\n",
    "import pandas as pd\n",
    "import imageio.v2 as imageio\n",
    "import os\n",
    "from os.path import exists\n",
    "import seaborn as sns"
   ]
  },
  {
   "cell_type": "code",
   "execution_count": 2,
   "id": "18c1d03c",
   "metadata": {},
   "outputs": [],
   "source": [
    "folder_name = \"Plots\"\n",
    "folder_data = \"data\"\n",
    "# Create a directory to save images\n",
    "if not os.path.exists(folder_name):\n",
    "    os.makedirs(folder_name)"
   ]
  },
  {
   "cell_type": "code",
   "execution_count": 3,
   "id": "06547685-ceaf-48b6-a69a-9de596dc5683",
   "metadata": {},
   "outputs": [],
   "source": [
    "for i in range(0,300):\n",
    "    data = pd.read_csv(f\"data/time={i}.csv\")\n",
    "    data = data.iloc[:,:-1]\n",
    "    sns.heatmap(data,cmap=\"seismic\", vmin=-0.1, vmax=0.1,cbar_kws={'label': 'E(x,y)'})\n",
    "    plt.title(\"TMz Polarization\")\n",
    "    plt.xlabel(\"X-Axis\")\n",
    "    plt.xticks([0,10,20,30], labels=[0,10,20,30])\n",
    "    plt.ylabel(\"Y-Axis\")\n",
    "    plt.yticks([0,10,20,30], [30,20,10,0])\n",
    "    plt.savefig(f\"Plots/time{i}.png\", dpi = 300)\n",
    "    plt.close()"
   ]
  },
  {
   "cell_type": "code",
   "execution_count": 4,
   "id": "f87e03f3",
   "metadata": {},
   "outputs": [],
   "source": [
    "images = []\n",
    "for i in range(0,300):\n",
    "    filename = f\"{folder_name}/time{i}.png\"\n",
    "    images.append(imageio.imread(filename))\n",
    "    \n",
    "imageio.mimsave('animated_EM.gif', images)"
   ]
  },
  {
   "cell_type": "code",
   "execution_count": null,
   "id": "4ac7d670",
   "metadata": {},
   "outputs": [],
   "source": []
  }
 ],
 "metadata": {
  "kernelspec": {
   "display_name": "Python 3 (ipykernel)",
   "language": "python",
   "name": "python3"
  },
  "language_info": {
   "codemirror_mode": {
    "name": "ipython",
    "version": 3
   },
   "file_extension": ".py",
   "mimetype": "text/x-python",
   "name": "python",
   "nbconvert_exporter": "python",
   "pygments_lexer": "ipython3",
   "version": "3.8.18"
  }
 },
 "nbformat": 4,
 "nbformat_minor": 5
}
